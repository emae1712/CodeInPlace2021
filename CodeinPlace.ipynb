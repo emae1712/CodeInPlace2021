{
  "nbformat": 4,
  "nbformat_minor": 0,
  "metadata": {
    "colab": {
      "name": "CodeinPlace.ipynb",
      "provenance": [],
      "mount_file_id": "1WkG7H0cUGV3QlpDKqWyyB0a4IAmF_4k9",
      "authorship_tag": "ABX9TyM+AtZN1Xsis1j8EKO9z7tG",
      "include_colab_link": true
    },
    "kernelspec": {
      "name": "python3",
      "display_name": "Python 3"
    },
    "language_info": {
      "name": "python"
    }
  },
  "cells": [
    {
      "cell_type": "markdown",
      "metadata": {
        "id": "view-in-github",
        "colab_type": "text"
      },
      "source": [
        "<a href=\"https://colab.research.google.com/github/emae1712/CodeInPlace2021/blob/master/CodeinPlace.ipynb\" target=\"_parent\"><img src=\"https://colab.research.google.com/assets/colab-badge.svg\" alt=\"Open In Colab\"/></a>"
      ]
    },
    {
      "cell_type": "code",
      "metadata": {
        "id": "lWYjWH9Fsckm"
      },
      "source": [
        "from PIL import Image, ImageOps\n",
        "import requests\n",
        "from io import BytesIO\n",
        "\n",
        "import cv2 as cv \n",
        "from google.colab.patches import cv2_imshow # for image display\n",
        "from skimage import io\n",
        "\n",
        "import json\n",
        "import random\n",
        "\n",
        "def play_game(name, about, image):\n",
        "    INITIAL_GUESSES = 5\n",
        "    list_guesses = []\n",
        "    print('\\nThe Pokemon name now looks like this: ',len(name)*'-')\n",
        "\n",
        "    while True:\n",
        "        result =\"\"\n",
        "        print('\\nYou have ', INITIAL_GUESSES,' guesses left')\n",
        "        guess = (input('Type a single letter here, then press enter: ')).upper()\n",
        "\n",
        "        if len(guess) != 1:\n",
        "            print('Please, press just one letter')\n",
        "        else:\n",
        "            if guess in name:\n",
        "                list_guesses.append(guess)\n",
        "            else:\n",
        "                print('There are no '+ str(guess)+\"\\'s in the word\")\n",
        "                INITIAL_GUESSES -= 1\n",
        "\n",
        "        for letter in name:\n",
        "            if letter in list_guesses:\n",
        "                result += letter   \n",
        "            else:\n",
        "                result += '-'\n",
        "            \n",
        "        #Show the progress of the game\n",
        "        if result != name.upper():\n",
        "            print('The Pokemon name now looks like this: '+ result)\n",
        "        else:\n",
        "            print('\\n🥳 Congratulations, the pokemon name is:', name, '\\nAbout:', about)\n",
        "            # img.show()\n",
        "            image_2 = cv.cvtColor(image, cv.COLOR_BGR2RGB)\n",
        "            cv2_imshow(image_2)\n",
        "            break\n",
        "\n",
        "        #Show when you lost the game\n",
        "        if INITIAL_GUESSES == 0:\n",
        "            print('Sorry, you lost. The secret word was:', name)\n",
        "            break\n",
        "\n",
        "# def shadow(filename):\n",
        "#     response = requests.get(filename)\n",
        "#     img = Image.open(BytesIO(response.content)).convert(\"L\")\n",
        "#     image = ImageOps.colorize(img,black=\"white\", white=\"black\")\n",
        "#     return image\n",
        "\n",
        "def movements(quick_move):\n",
        "    value =[]\n",
        "    for i in range(len(quick_move)):\n",
        "            value.append(quick_move[i]['name'])\n",
        "    return value\n",
        "\n",
        "def main():\n",
        "    print('👋 Welcome to Pokemon data')\n",
        "    print('There is information about 251 Pokemon from the Kanto and Johto regions. Your mission will be to guess the Pokemon shown in the image. \\nGotta catch \\'em all!\\n')\n",
        "    print('🤩 Who is that Pokemon? ')\n",
        "    see_image =input(\"Press enter to see the image \")\n",
        "    if see_image != '':\n",
        "        input(\"Just press enter to see the image \")\n",
        "\n",
        "    with open('/content/CodeInPlace2021/pokemon.json') as Pokemon:\n",
        "        \n",
        "        data = json.load(Pokemon)\n",
        "        index = random.randint(0,len(data['pokemon'])-1)\n",
        "        img_url=data['pokemon'][index]['img']\n",
        "        print(img_url)\n",
        "        image = io.imread(img_url) \n",
        "        image_2 = 255-cv.cvtColor(image, cv.COLOR_BGR2GRAY)\n",
        "        cv2_imshow(image_2)\n",
        "        # response = requests.get(img_url)\n",
        "        # img = Image.open(BytesIO(response.content))\n",
        "\n",
        "        #Grayscale image\n",
        "        # img_shadow = shadow(img_url)\n",
        "        # img_shadow.show()\n",
        "\n",
        "        #Clues\n",
        "        pokemon_type = data['pokemon'][index]['type']\n",
        "        region = data['pokemon'][index]['generation']['name']\n",
        "        quick_move = movements(data['pokemon'][index]['quick-move'])\n",
        "\n",
        "        print('\\n💡 Some clues about this pokemon', \n",
        "            \"\\nType: \", pokemon_type, \n",
        "            \"\\nRegion: \", region, \n",
        "            '\\nQuick move: ', quick_move)\n",
        "        \n",
        "        #data about the pokemon\n",
        "        name =data['pokemon'][index]['name']\n",
        "        about = data['pokemon'][index]['about']\n",
        "        \n",
        "\n",
        "        #Pokemon name guessing\n",
        "        play_game(name.upper(), about, image)\n",
        "            \n",
        "\n",
        "if __name__== '__main__':\n",
        "    main()"
      ],
      "execution_count": null,
      "outputs": []
    },
    {
      "cell_type": "code",
      "metadata": {
        "id": "KcdMiFppP5s9",
        "colab": {
          "base_uri": "https://localhost:8080/"
        },
        "outputId": "b6152e62-aca0-4bff-da2e-2d6c9064980a"
      },
      "source": [
        "!git clone https://github.com/emae1712/CodeInPlace2021.git"
      ],
      "execution_count": 1,
      "outputs": [
        {
          "output_type": "stream",
          "text": [
            "Cloning into 'CodeInPlace2021'...\n",
            "remote: Enumerating objects: 16, done.\u001b[K\n",
            "remote: Counting objects: 100% (16/16), done.\u001b[K\n",
            "remote: Compressing objects: 100% (13/13), done.\u001b[K\n",
            "remote: Total 16 (delta 4), reused 9 (delta 2), pack-reused 0\u001b[K\n",
            "Unpacking objects: 100% (16/16), done.\n"
          ],
          "name": "stdout"
        }
      ]
    }
  ]
}