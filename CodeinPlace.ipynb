{
  "nbformat": 4,
  "nbformat_minor": 0,
  "metadata": {
    "colab": {
      "name": "CodeinPlace.ipynb",
      "provenance": [],
      "mount_file_id": "1WkG7H0cUGV3QlpDKqWyyB0a4IAmF_4k9",
      "authorship_tag": "ABX9TyNov7uFXyyXDUybYWAq0W5O",
      "include_colab_link": true
    },
    "kernelspec": {
      "name": "python3",
      "display_name": "Python 3"
    },
    "language_info": {
      "name": "python"
    }
  },
  "cells": [
    {
      "cell_type": "markdown",
      "metadata": {
        "id": "view-in-github",
        "colab_type": "text"
      },
      "source": [
        "<a href=\"https://colab.research.google.com/github/emae1712/CodeInPlace2021/blob/master/CodeinPlace.ipynb\" target=\"_parent\"><img src=\"https://colab.research.google.com/assets/colab-badge.svg\" alt=\"Open In Colab\"/></a>"
      ]
    },
    {
      "cell_type": "code",
      "metadata": {
        "id": "lWYjWH9Fsckm",
        "outputId": "551b2d80-d78e-4792-9312-fddb6a2d3502",
        "colab": {
          "base_uri": "https://localhost:8080/",
          "height": 1000
        }
      },
      "source": [
        "!git clone https://github.com/emae1712/CodeInPlace2021.git\n",
        "\n",
        "from PIL import Image, ImageOps\n",
        "import requests\n",
        "from io import BytesIO\n",
        "\n",
        "import cv2 as cv \n",
        "from google.colab.patches import cv2_imshow # for image display\n",
        "from skimage import io\n",
        "\n",
        "import json\n",
        "import random\n",
        "\n",
        "def play_game(name, about, image):\n",
        "    INITIAL_GUESSES = 5\n",
        "    list_guesses = []\n",
        "    print('\\nThe Pokemon name now looks like this: ',len(name)*'-')\n",
        "\n",
        "    while True:\n",
        "        result =\"\"\n",
        "        print('\\nYou have ', INITIAL_GUESSES,' guesses left')\n",
        "        guess = (input('Type a single letter here, then press enter: ')).upper()\n",
        "\n",
        "        if len(guess) != 1:\n",
        "            print('\\nPlease, press just one letter')\n",
        "        else:\n",
        "            if guess in name:\n",
        "                list_guesses.append(guess)\n",
        "            else:\n",
        "                print('There are no '+ str(guess)+\"\\'s in the word\")\n",
        "                INITIAL_GUESSES -= 1\n",
        "\n",
        "        for letter in name:\n",
        "            if letter in list_guesses:\n",
        "                result += letter   \n",
        "            else:\n",
        "                result += '-'\n",
        "            \n",
        "        #Show the progress of the game\n",
        "        if result != name.upper():\n",
        "            print('The Pokemon name now looks like this: '+ result)\n",
        "        else:\n",
        "            print('\\n🥳 Congratulations, the pokemon name is:', name, '\\nAbout:', about)\n",
        "            image_2 = cv.cvtColor(image, cv.COLOR_BGR2RGB)\n",
        "            cv2_imshow(image_2)\n",
        "            break\n",
        "\n",
        "        #Show when you lost the game\n",
        "        if INITIAL_GUESSES == 0:\n",
        "            print('\\nSorry, you lost. The secret word was:', name)\n",
        "            break\n",
        "\n",
        "def movements(quick_move):\n",
        "    value =[]\n",
        "    for i in range(len(quick_move)):\n",
        "            value.append(quick_move[i]['name'])\n",
        "    return value\n",
        "\n",
        "def main():\n",
        "    print('👋 Welcome to Pokemon data')\n",
        "    print('There is information about 251 Pokemon from the Kanto and Johto regions. Your mission will be to guess the Pokemon shown in the image. \\nGotta catch \\'em all!\\n')\n",
        "    print('🤩 Who is that Pokemon? ')\n",
        "    see_image =input(\"Press enter to see the image \")\n",
        "    if see_image != '':\n",
        "        input(\"Just press enter to see the image \")\n",
        "\n",
        "    with open('/content/CodeInPlace2021/pokemon.json') as Pokemon:\n",
        "        \n",
        "        data = json.load(Pokemon)\n",
        "        index = random.randint(0,len(data['pokemon'])-1)\n",
        "        img_url=data['pokemon'][index]['img']\n",
        "        image = io.imread(img_url) \n",
        "        image_2 = 255-cv.cvtColor(image, cv.COLOR_BGR2GRAY)\n",
        "        cv2_imshow(image_2)\n",
        "\n",
        "        #Clues\n",
        "        pokemon_type = data['pokemon'][index]['type']\n",
        "        region = data['pokemon'][index]['generation']['name']\n",
        "        quick_move = movements(data['pokemon'][index]['quick-move'])\n",
        "\n",
        "        print('\\n💡 Some clues about this pokemon', \n",
        "            \"\\nType: \", pokemon_type, \n",
        "            \"\\nRegion: \", region, \n",
        "            '\\nQuick move: ', quick_move)\n",
        "        \n",
        "        #data about the pokemon\n",
        "        name =data['pokemon'][index]['name']\n",
        "        about = data['pokemon'][index]['about']\n",
        "        \n",
        "\n",
        "        #Pokemon name guessing\n",
        "        play_game(name.upper(), about, image)\n",
        "            \n",
        "\n",
        "if __name__== '__main__':\n",
        "    main()"
      ],
      "execution_count": 6,
      "outputs": [
        {
          "output_type": "stream",
          "text": [
            "fatal: destination path 'CodeInPlace2021' already exists and is not an empty directory.\n",
            "👋 Welcome to Pokemon data\n",
            "There is information about 251 Pokemon from the Kanto and Johto regions. Your mission will be to guess the Pokemon shown in the image. \n",
            "Gotta catch 'em all!\n",
            "\n",
            "🤩 Who is that Pokemon? \n",
            "Press enter to see the image \n"
          ],
          "name": "stdout"
        },
        {
          "output_type": "display_data",
          "data": {
            "image/png": "[encoded data removed]",
            "text/plain": [
              "<PIL.Image.Image image mode=L size=120x120 at 0x7F5ED14E0850>"
            ]
          },
          "metadata": {
            "tags": []
          }
        },
        {
          "output_type": "stream",
          "text": [
            "\n",
            "💡 Some clues about this pokemon \n",
            "Type:  ['water', 'ground'] \n",
            "Region:  johto \n",
            "Quick move:  ['water gun', 'mud shot']\n",
            "\n",
            "The Pokemon name now looks like this:  ------\n",
            "\n",
            "You have  5  guesses left\n",
            "Type a single letter here, then press enter: ji\n",
            "\n",
            "Please, press just one letter\n",
            "The Pokemon name now looks like this: ------\n",
            "\n",
            "You have  5  guesses left\n",
            "Type a single letter here, then press enter: o\n",
            "The Pokemon name now looks like this: -OO---\n",
            "\n",
            "You have  5  guesses left\n",
            "Type a single letter here, then press enter: l\n",
            "There are no L's in the word\n",
            "The Pokemon name now looks like this: -OO---\n",
            "\n",
            "You have  4  guesses left\n",
            "Type a single letter here, then press enter: m\n",
            "There are no M's in the word\n",
            "The Pokemon name now looks like this: -OO---\n",
            "\n",
            "You have  3  guesses left\n",
            "Type a single letter here, then press enter: n\n",
            "There are no N's in the word\n",
            "The Pokemon name now looks like this: -OO---\n",
            "\n",
            "You have  2  guesses left\n",
            "Type a single letter here, then press enter: a\n",
            "There are no A's in the word\n",
            "The Pokemon name now looks like this: -OO---\n",
            "\n",
            "You have  1  guesses left\n",
            "Type a single letter here, then press enter: p\n",
            "The Pokemon name now looks like this: -OOP--\n",
            "\n",
            "You have  1  guesses left\n",
            "Type a single letter here, then press enter: s\n",
            "There are no S's in the word\n",
            "The Pokemon name now looks like this: -OOP--\n",
            "\n",
            "Sorry, you lost. The secret word was: WOOPER\n"
          ],
          "name": "stdout"
        }
      ]
    }
  ]
}